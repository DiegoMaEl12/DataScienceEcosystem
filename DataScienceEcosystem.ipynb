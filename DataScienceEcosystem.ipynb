{
 "cells": [
  {
   "cell_type": "markdown",
   "id": "d8e6f2c5-ed05-410c-ac43-16c4e29f0419",
   "metadata": {},
   "source": [
    "# Data Science tools and ecosystem"
   ]
  },
  {
   "cell_type": "markdown",
   "id": "e719816b-a387-43e1-b99b-6b547ad704ab",
   "metadata": {},
   "source": [
    "This is an summary notebook for data science tools and ecosystems."
   ]
  },
  {
   "cell_type": "markdown",
   "id": "c816af82-60e6-4b67-aba7-29a504e3541d",
   "metadata": {},
   "source": [
    "Some popular languages that Data Scientists use are:\n",
    "1. Python\n",
    "2. R\n",
    "3. SQL\n",
    "4. Julia"
   ]
  },
  {
   "cell_type": "markdown",
   "id": "e81f1b43-eb5a-4032-8e9a-5371b9f609b7",
   "metadata": {},
   "source": [
    "Some of the commonly used libraries used by Data Scientists are:\n",
    "1. NumPy\n",
    "2. Pandas\n",
    "3. Matplotlib\n",
    "4. Seaborn\n",
    "5. SciPy"
   ]
  },
  {
   "cell_type": "markdown",
   "id": "9c85ad4f-e7a3-4788-99ef-f1260b646391",
   "metadata": {},
   "source": [
    "| Data Science Tools            |\n",
    "|-------------------------------|\n",
    "| Jupyter Notebook              |\n",
    "| RStudio                       |\n",
    "| Spyder                        |\n",
    "| Apache Zepelin                |\n",
    "| Visual Studio Code            |\n"
   ]
  },
  {
   "cell_type": "markdown",
   "id": "83e2a0cd-89cf-4ab6-bbe9-230707652c67",
   "metadata": {},
   "source": [
    "### Below are a few arithmetic expressions in Python"
   ]
  },
  {
   "cell_type": "code",
   "execution_count": 26,
   "id": "49186b1a-d338-4222-b47a-7af4c91c2169",
   "metadata": {},
   "outputs": [
    {
     "data": {
      "text/plain": [
       "17"
      ]
     },
     "execution_count": 26,
     "metadata": {},
     "output_type": "execute_result"
    }
   ],
   "source": [
    "#This is a simple expression to multiply and then add integers.\n",
    "(3*4)+5"
   ]
  },
  {
   "cell_type": "code",
   "execution_count": 28,
   "id": "91d55c61-e2b6-4d81-a05c-166416106a14",
   "metadata": {},
   "outputs": [
    {
     "data": {
      "text/plain": [
       "3.3333333333333335"
      ]
     },
     "execution_count": 28,
     "metadata": {},
     "output_type": "execute_result"
    }
   ],
   "source": [
    "#This expression will convert 200 minutes to hours dividing it by 60\n",
    "200/60"
   ]
  },
  {
   "cell_type": "markdown",
   "id": "d22140cd-f47d-4d43-9630-de9f11d8f366",
   "metadata": {},
   "source": [
    "**Objectives**:\n",
    "- List popular languages for data science\n",
    "- List popular tools for data science\n",
    "- List popular libraries for data science\n",
    "- Use simple arithmetic expressions\n",
    "- Use the Jupyter notebooks"
   ]
  },
  {
   "cell_type": "markdown",
   "id": "a5e41405-db93-4ae0-8938-bf3d3efdff2a",
   "metadata": {},
   "source": [
    "## Author\n",
    "Diego Martinez"
   ]
  }
 ],
 "metadata": {
  "kernelspec": {
   "display_name": "Python [conda env:DiegoTestEnv]",
   "language": "python",
   "name": "conda-env-DiegoTestEnv-py"
  },
  "language_info": {
   "codemirror_mode": {
    "name": "ipython",
    "version": 3
   },
   "file_extension": ".py",
   "mimetype": "text/x-python",
   "name": "python",
   "nbconvert_exporter": "python",
   "pygments_lexer": "ipython3",
   "version": "3.12.9"
  }
 },
 "nbformat": 4,
 "nbformat_minor": 5
}
